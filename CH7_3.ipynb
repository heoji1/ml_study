{
  "cells": [
    {
      "cell_type": "markdown",
      "metadata": {
        "id": "view-in-github",
        "colab_type": "text"
      },
      "source": [
        "<a href=\"https://colab.research.google.com/github/heoji1/ml_study/blob/main/CH7_3.ipynb\" target=\"_parent\"><img src=\"https://colab.research.google.com/assets/colab-badge.svg\" alt=\"Open In Colab\"/></a>"
      ]
    },
    {
      "cell_type": "markdown",
      "metadata": {
        "id": "MdtBytuqaC5l"
      },
      "source": [
        "### KDE(Kernel Density Estimation)의 이해"
      ]
    },
    {
      "cell_type": "markdown",
      "metadata": {
        "id": "xrP-MlpCaC59"
      },
      "source": [
        "**개별 관측데이터에 대해 가우시안 커널 함수를 적용**"
      ]
    },
    {
      "cell_type": "markdown",
      "metadata": {
        "id": "jlvAxd4caC6C"
      },
      "source": [
        "### 사이킷런을 이용한 Mean Shift\n",
        "\n",
        "make_blobs()를 이용하여 2개의 feature와 3개의 군집 중심점을 가지는 임의의 데이터 200개를 생성하고 MeanShift를 이용하여 군집화 수행"
      ]
    },
    {
      "cell_type": "code",
      "execution_count": null,
      "metadata": {
        "id": "jpPu5OaZaC6D",
        "outputId": "eee1e218-c335-4b6e-b9c2-dbd76d771349"
      },
      "outputs": [
        {
          "name": "stdout",
          "output_type": "stream",
          "text": [
            "cluster labels 유형: [0 1 2 3 4 5 6 7]\n"
          ]
        }
      ],
      "source": [
        "import numpy as np\n",
        "from sklearn.datasets import make_blobs\n",
        "from sklearn.cluster import MeanShift\n",
        "\n",
        "X, y = make_blobs(n_samples=200, n_features=2, centers=3,\n",
        "                  cluster_std=0.8, random_state=0)\n",
        "\n",
        "meanshift= MeanShift(bandwidth=0.9)\n",
        "cluster_labels = meanshift.fit_predict(X)\n",
        "print('cluster labels 유형:', np.unique(cluster_labels))"
      ]
    },
    {
      "cell_type": "markdown",
      "metadata": {
        "id": "OL_OpGUDaC6E"
      },
      "source": [
        "**커널함수의 bandwidth크기를 1로 약간 증가 후에 Mean Shift 군집화 재 수행**"
      ]
    },
    {
      "cell_type": "code",
      "execution_count": null,
      "metadata": {
        "id": "-rR2QbD9aC6F",
        "outputId": "ca9dc728-f070-45e2-d83d-1ab317127635"
      },
      "outputs": [
        {
          "name": "stdout",
          "output_type": "stream",
          "text": [
            "cluster labels 유형: [0 1 2]\n"
          ]
        }
      ],
      "source": [
        "meanshift= MeanShift(bandwidth=1)\n",
        "cluster_labels = meanshift.fit_predict(X)\n",
        "print('cluster labels 유형:', np.unique(cluster_labels))"
      ]
    },
    {
      "cell_type": "markdown",
      "metadata": {
        "id": "G1OUoijjaC6F"
      },
      "source": [
        "**최적의 bandwidth값을 estimate_bandwidth()로 계산 한 뒤에 다시 군집화 수행**"
      ]
    },
    {
      "cell_type": "code",
      "execution_count": null,
      "metadata": {
        "id": "Q_AQw3poaC6G",
        "outputId": "13728d04-dd04-4ca9-fb7c-864e0d760f86"
      },
      "outputs": [
        {
          "name": "stdout",
          "output_type": "stream",
          "text": [
            "bandwidth 값: 1.689\n"
          ]
        }
      ],
      "source": [
        "from sklearn.cluster import estimate_bandwidth\n",
        "\n",
        "bandwidth = estimate_bandwidth(X,quantile=0.25)\n",
        "print('bandwidth 값:', round(bandwidth,3))"
      ]
    },
    {
      "cell_type": "code",
      "execution_count": null,
      "metadata": {
        "id": "jtD34KbJaC6I",
        "outputId": "44b367a8-29bd-44a5-9142-878b982ae2a5"
      },
      "outputs": [
        {
          "name": "stdout",
          "output_type": "stream",
          "text": [
            "cluster labels 유형: [0 1 2]\n"
          ]
        }
      ],
      "source": [
        "import pandas as pd\n",
        "\n",
        "clusterDF = pd.DataFrame(data=X, columns=['ftr1', 'ftr2'])\n",
        "clusterDF['target'] = y\n",
        "\n",
        "# estimate_bandwidth()로 최적의 bandwidth 계산\n",
        "best_bandwidth = estimate_bandwidth(X, quantile=0.25)\n",
        "\n",
        "meanshift= MeanShift(best_bandwidth)\n",
        "cluster_labels = meanshift.fit_predict(X)\n",
        "print('cluster labels 유형:',np.unique(cluster_labels))"
      ]
    },
    {
      "cell_type": "code",
      "execution_count": null,
      "metadata": {
        "id": "0vdMGPpRaC6J",
        "outputId": "33ad3a12-a33f-42cd-d0f2-51144b085c4a"
      },
      "outputs": [
        {
          "data": {
            "image/png": "[encoded data removed]",
            "text/plain": [
              "<matplotlib.figure.Figure at 0x23a8ef019b0>"
            ]
          },
          "metadata": {},
          "output_type": "display_data"
        }
      ],
      "source": [
        "import matplotlib.pyplot as plt\n",
        "%matplotlib inline\n",
        "\n",
        "clusterDF['meanshift_label']  = cluster_labels\n",
        "centers = meanshift.cluster_centers_\n",
        "unique_labels = np.unique(cluster_labels)\n",
        "markers=['o', 's', '^', 'x', '*']\n",
        "\n",
        "for label in unique_labels:\n",
        "    label_cluster = clusterDF[clusterDF['meanshift_label']==label]\n",
        "    center_x_y = centers[label]\n",
        "    # 군집별로 다른 marker로 scatter plot 적용\n",
        "    plt.scatter(x=label_cluster['ftr1'], y=label_cluster['ftr2'], edgecolor='k',\n",
        "                marker=markers[label] )\n",
        "\n",
        "    # 군집별 중심 시각화\n",
        "    plt.scatter(x=center_x_y[0], y=center_x_y[1], s=200, color='white',\n",
        "                edgecolor='k', alpha=0.9, marker=markers[label])\n",
        "    plt.scatter(x=center_x_y[0], y=center_x_y[1], s=70, color='k', edgecolor='k',\n",
        "                marker='$%d$' % label)\n",
        "\n",
        "plt.show()\n"
      ]
    },
    {
      "cell_type": "code",
      "execution_count": null,
      "metadata": {
        "id": "tjMnLwugaC6K",
        "outputId": "762f02f4-2776-40d5-f5c7-9ca3139b5c36"
      },
      "outputs": [
        {
          "name": "stdout",
          "output_type": "stream",
          "text": [
            "target  meanshift_label\n",
            "0       1                  67\n",
            "1       2                  67\n",
            "2       0                  65\n",
            "        2                   1\n",
            "Name: meanshift_label, dtype: int64\n"
          ]
        }
      ],
      "source": [
        "print(clusterDF.groupby('target')['meanshift_label'].value_counts())"
      ]
    },
    {
      "cell_type": "code",
      "execution_count": null,
      "metadata": {
        "id": "2daGSuTLaC6K"
      },
      "outputs": [],
      "source": []
    }
  ],
  "metadata": {
    "kernelspec": {
      "display_name": "Python 3",
      "language": "python",
      "name": "python3"
    },
    "language_info": {
      "codemirror_mode": {
        "name": "ipython",
        "version": 3
      },
      "file_extension": ".py",
      "mimetype": "text/x-python",
      "name": "python",
      "nbconvert_exporter": "python",
      "pygments_lexer": "ipython3",
      "version": "3.6.4"
    },
    "colab": {
      "provenance": [],
      "include_colab_link": true
    }
  },
  "nbformat": 4,
  "nbformat_minor": 0
}